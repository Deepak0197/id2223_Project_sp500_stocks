{
 "cells": [
  {
   "cell_type": "code",
   "execution_count": 62,
   "id": "94c541ab",
   "metadata": {},
   "outputs": [],
   "source": [
    "import hopsworks\n",
    "import pandas as pd\n",
    "import seaborn as sns\n",
    "from matplotlib import pyplot\n",
    "from hsml.schema import Schema\n",
    "from hsml.model_schema import ModelSchema\n",
    "import joblib\n",
    "import os\n",
    "\n",
    "from sklearn.ensemble import RandomForestClassifier"
   ]
  },
  {
   "cell_type": "code",
   "execution_count": 65,
   "id": "3084b10f",
   "metadata": {},
   "outputs": [
    {
     "name": "stdout",
     "output_type": "stream",
     "text": [
      "Connection closed.\n",
      "Connected. Call `.close()` to terminate connection gracefully.\n",
      "\n",
      "Logged in to project, explore it here https://c.app.hopsworks.ai:443/p/210070\n",
      "Connected. Call `.close()` to terminate connection gracefully.\n"
     ]
    }
   ],
   "source": [
    "# You have to set the environment variable 'HOPSWORKS_API_KEY' for login to succeed\n",
    "project = hopsworks.login()\n",
    "fs = project.get_feature_store()"
   ]
  },
  {
   "cell_type": "code",
   "execution_count": 66,
   "id": "28d43d58",
   "metadata": {},
   "outputs": [
    {
     "name": "stdout",
     "output_type": "stream",
     "text": [
      "Feature view created successfully, explore it at \n",
      "https://c.app.hopsworks.ai:443/p/210070/fs/209989/fv/sp500/version/2\n"
     ]
    }
   ],
   "source": [
    "# The feature view is the input set of features for your model. The features can come from different feature groups.    \n",
    "# You can select features from different feature groups and join them together to create a feature view\n",
    "sp500_fg = fs.get_feature_group(name=\"sp500\", version=2)\n",
    "query = sp500_fg.select_all()\n",
    "feature_view = fs.get_or_create_feature_view(name=\"sp500\",\n",
    "                                  version=2,\n",
    "                                  description=\"Read from sp500 dataset\",\n",
    "                                  query=query)"
   ]
  },
  {
   "cell_type": "code",
   "execution_count": 68,
   "id": "e4b3be7e",
   "metadata": {},
   "outputs": [
    {
     "name": "stdout",
     "output_type": "stream",
     "text": [
      "Finished: Reading data from Hopsworks, using ArrowFlight (1.79s) \n"
     ]
    },
    {
     "data": {
      "text/html": [
       "<div>\n",
       "<style scoped>\n",
       "    .dataframe tbody tr th:only-of-type {\n",
       "        vertical-align: middle;\n",
       "    }\n",
       "\n",
       "    .dataframe tbody tr th {\n",
       "        vertical-align: top;\n",
       "    }\n",
       "\n",
       "    .dataframe thead th {\n",
       "        text-align: right;\n",
       "    }\n",
       "</style>\n",
       "<table border=\"1\" class=\"dataframe\">\n",
       "  <thead>\n",
       "    <tr style=\"text-align: right;\">\n",
       "      <th></th>\n",
       "      <th>open</th>\n",
       "      <th>high</th>\n",
       "      <th>low</th>\n",
       "      <th>close</th>\n",
       "      <th>volume</th>\n",
       "      <th>date_copy</th>\n",
       "    </tr>\n",
       "  </thead>\n",
       "  <tbody>\n",
       "    <tr>\n",
       "      <th>0</th>\n",
       "      <td>353.399994</td>\n",
       "      <td>359.690002</td>\n",
       "      <td>351.980011</td>\n",
       "      <td>359.690002</td>\n",
       "      <td>162070000</td>\n",
       "      <td>1990-01-02 05:00:00+00:00</td>\n",
       "    </tr>\n",
       "    <tr>\n",
       "      <th>1</th>\n",
       "      <td>359.690002</td>\n",
       "      <td>360.589996</td>\n",
       "      <td>357.890015</td>\n",
       "      <td>358.760010</td>\n",
       "      <td>192330000</td>\n",
       "      <td>1990-01-03 05:00:00+00:00</td>\n",
       "    </tr>\n",
       "    <tr>\n",
       "      <th>2</th>\n",
       "      <td>358.760010</td>\n",
       "      <td>358.760010</td>\n",
       "      <td>352.890015</td>\n",
       "      <td>355.670013</td>\n",
       "      <td>177000000</td>\n",
       "      <td>1990-01-04 05:00:00+00:00</td>\n",
       "    </tr>\n",
       "    <tr>\n",
       "      <th>3</th>\n",
       "      <td>355.670013</td>\n",
       "      <td>355.670013</td>\n",
       "      <td>351.350006</td>\n",
       "      <td>352.200012</td>\n",
       "      <td>158530000</td>\n",
       "      <td>1990-01-05 05:00:00+00:00</td>\n",
       "    </tr>\n",
       "    <tr>\n",
       "      <th>4</th>\n",
       "      <td>352.200012</td>\n",
       "      <td>354.239990</td>\n",
       "      <td>350.540009</td>\n",
       "      <td>353.790009</td>\n",
       "      <td>140110000</td>\n",
       "      <td>1990-01-08 05:00:00+00:00</td>\n",
       "    </tr>\n",
       "    <tr>\n",
       "      <th>...</th>\n",
       "      <td>...</td>\n",
       "      <td>...</td>\n",
       "      <td>...</td>\n",
       "      <td>...</td>\n",
       "      <td>...</td>\n",
       "      <td>...</td>\n",
       "    </tr>\n",
       "    <tr>\n",
       "      <th>8564</th>\n",
       "      <td>4782.879883</td>\n",
       "      <td>4788.430176</td>\n",
       "      <td>4751.990234</td>\n",
       "      <td>4769.830078</td>\n",
       "      <td>3126060000</td>\n",
       "      <td>2023-12-29 05:00:00+00:00</td>\n",
       "    </tr>\n",
       "    <tr>\n",
       "      <th>8565</th>\n",
       "      <td>4745.200195</td>\n",
       "      <td>4754.330078</td>\n",
       "      <td>4722.669922</td>\n",
       "      <td>4742.830078</td>\n",
       "      <td>3743050000</td>\n",
       "      <td>2024-01-02 05:00:00+00:00</td>\n",
       "    </tr>\n",
       "    <tr>\n",
       "      <th>8566</th>\n",
       "      <td>4725.069824</td>\n",
       "      <td>4729.290039</td>\n",
       "      <td>4699.709961</td>\n",
       "      <td>4704.810059</td>\n",
       "      <td>3950760000</td>\n",
       "      <td>2024-01-03 05:00:00+00:00</td>\n",
       "    </tr>\n",
       "    <tr>\n",
       "      <th>8567</th>\n",
       "      <td>4697.419922</td>\n",
       "      <td>4726.779785</td>\n",
       "      <td>4687.529785</td>\n",
       "      <td>4688.680176</td>\n",
       "      <td>3715480000</td>\n",
       "      <td>2024-01-04 05:00:00+00:00</td>\n",
       "    </tr>\n",
       "    <tr>\n",
       "      <th>8568</th>\n",
       "      <td>4690.569824</td>\n",
       "      <td>4721.490234</td>\n",
       "      <td>4682.109863</td>\n",
       "      <td>4697.240234</td>\n",
       "      <td>3844370000</td>\n",
       "      <td>2024-01-05 05:00:00+00:00</td>\n",
       "    </tr>\n",
       "  </tbody>\n",
       "</table>\n",
       "<p>8569 rows × 6 columns</p>\n",
       "</div>"
      ],
      "text/plain": [
       "             open         high          low        close      volume  \\\n",
       "0      353.399994   359.690002   351.980011   359.690002   162070000   \n",
       "1      359.690002   360.589996   357.890015   358.760010   192330000   \n",
       "2      358.760010   358.760010   352.890015   355.670013   177000000   \n",
       "3      355.670013   355.670013   351.350006   352.200012   158530000   \n",
       "4      352.200012   354.239990   350.540009   353.790009   140110000   \n",
       "...           ...          ...          ...          ...         ...   \n",
       "8564  4782.879883  4788.430176  4751.990234  4769.830078  3126060000   \n",
       "8565  4745.200195  4754.330078  4722.669922  4742.830078  3743050000   \n",
       "8566  4725.069824  4729.290039  4699.709961  4704.810059  3950760000   \n",
       "8567  4697.419922  4726.779785  4687.529785  4688.680176  3715480000   \n",
       "8568  4690.569824  4721.490234  4682.109863  4697.240234  3844370000   \n",
       "\n",
       "                     date_copy  \n",
       "0    1990-01-02 05:00:00+00:00  \n",
       "1    1990-01-03 05:00:00+00:00  \n",
       "2    1990-01-04 05:00:00+00:00  \n",
       "3    1990-01-05 05:00:00+00:00  \n",
       "4    1990-01-08 05:00:00+00:00  \n",
       "...                        ...  \n",
       "8564 2023-12-29 05:00:00+00:00  \n",
       "8565 2024-01-02 05:00:00+00:00  \n",
       "8566 2024-01-03 05:00:00+00:00  \n",
       "8567 2024-01-04 05:00:00+00:00  \n",
       "8568 2024-01-05 05:00:00+00:00  \n",
       "\n",
       "[8569 rows x 6 columns]"
      ]
     },
     "execution_count": 68,
     "metadata": {},
     "output_type": "execute_result"
    }
   ],
   "source": [
    "#Fetching the data from hopsworks and ordering it by date_copy column\n",
    "df_sp500 = feature_view.get_batch_data()\n",
    "df_sp500 = df_sp500.sort_values(by='date_copy')\n",
    "df_sp500 = df_sp500.reset_index(drop=True)\n",
    "#df_sp500 = df_sp500.reset_index()\n",
    "df_sp500"
   ]
  },
  {
   "cell_type": "code",
   "execution_count": 71,
   "id": "e11dba40",
   "metadata": {},
   "outputs": [
    {
     "data": {
      "text/plain": [
       "RangeIndex(start=0, stop=8569, step=1)"
      ]
     },
     "execution_count": 71,
     "metadata": {},
     "output_type": "execute_result"
    }
   ],
   "source": [
    "df_sp500.index"
   ]
  },
  {
   "cell_type": "code",
   "execution_count": 74,
   "id": "d97fb984",
   "metadata": {},
   "outputs": [],
   "source": [
    "df_sp500[\"tomorrow\"] = df_sp500[\"close\"].shift(-1)\n",
    "df_sp500[\"target\"] = (df_sp500[\"tomorrow\"] > df_sp500[\"close\"]).astype(int)"
   ]
  },
  {
   "cell_type": "code",
   "execution_count": 75,
   "id": "0f198804",
   "metadata": {},
   "outputs": [
    {
     "data": {
      "text/html": [
       "<div>\n",
       "<style scoped>\n",
       "    .dataframe tbody tr th:only-of-type {\n",
       "        vertical-align: middle;\n",
       "    }\n",
       "\n",
       "    .dataframe tbody tr th {\n",
       "        vertical-align: top;\n",
       "    }\n",
       "\n",
       "    .dataframe thead th {\n",
       "        text-align: right;\n",
       "    }\n",
       "</style>\n",
       "<table border=\"1\" class=\"dataframe\">\n",
       "  <thead>\n",
       "    <tr style=\"text-align: right;\">\n",
       "      <th></th>\n",
       "      <th>open</th>\n",
       "      <th>high</th>\n",
       "      <th>low</th>\n",
       "      <th>close</th>\n",
       "      <th>volume</th>\n",
       "      <th>date_copy</th>\n",
       "      <th>tomorrow</th>\n",
       "      <th>target</th>\n",
       "    </tr>\n",
       "  </thead>\n",
       "  <tbody>\n",
       "    <tr>\n",
       "      <th>0</th>\n",
       "      <td>353.399994</td>\n",
       "      <td>359.690002</td>\n",
       "      <td>351.980011</td>\n",
       "      <td>359.690002</td>\n",
       "      <td>162070000</td>\n",
       "      <td>1990-01-02 05:00:00+00:00</td>\n",
       "      <td>358.760010</td>\n",
       "      <td>0</td>\n",
       "    </tr>\n",
       "    <tr>\n",
       "      <th>1</th>\n",
       "      <td>359.690002</td>\n",
       "      <td>360.589996</td>\n",
       "      <td>357.890015</td>\n",
       "      <td>358.760010</td>\n",
       "      <td>192330000</td>\n",
       "      <td>1990-01-03 05:00:00+00:00</td>\n",
       "      <td>355.670013</td>\n",
       "      <td>0</td>\n",
       "    </tr>\n",
       "    <tr>\n",
       "      <th>2</th>\n",
       "      <td>358.760010</td>\n",
       "      <td>358.760010</td>\n",
       "      <td>352.890015</td>\n",
       "      <td>355.670013</td>\n",
       "      <td>177000000</td>\n",
       "      <td>1990-01-04 05:00:00+00:00</td>\n",
       "      <td>352.200012</td>\n",
       "      <td>0</td>\n",
       "    </tr>\n",
       "    <tr>\n",
       "      <th>3</th>\n",
       "      <td>355.670013</td>\n",
       "      <td>355.670013</td>\n",
       "      <td>351.350006</td>\n",
       "      <td>352.200012</td>\n",
       "      <td>158530000</td>\n",
       "      <td>1990-01-05 05:00:00+00:00</td>\n",
       "      <td>353.790009</td>\n",
       "      <td>1</td>\n",
       "    </tr>\n",
       "    <tr>\n",
       "      <th>4</th>\n",
       "      <td>352.200012</td>\n",
       "      <td>354.239990</td>\n",
       "      <td>350.540009</td>\n",
       "      <td>353.790009</td>\n",
       "      <td>140110000</td>\n",
       "      <td>1990-01-08 05:00:00+00:00</td>\n",
       "      <td>349.619995</td>\n",
       "      <td>0</td>\n",
       "    </tr>\n",
       "    <tr>\n",
       "      <th>...</th>\n",
       "      <td>...</td>\n",
       "      <td>...</td>\n",
       "      <td>...</td>\n",
       "      <td>...</td>\n",
       "      <td>...</td>\n",
       "      <td>...</td>\n",
       "      <td>...</td>\n",
       "      <td>...</td>\n",
       "    </tr>\n",
       "    <tr>\n",
       "      <th>8564</th>\n",
       "      <td>4782.879883</td>\n",
       "      <td>4788.430176</td>\n",
       "      <td>4751.990234</td>\n",
       "      <td>4769.830078</td>\n",
       "      <td>3126060000</td>\n",
       "      <td>2023-12-29 05:00:00+00:00</td>\n",
       "      <td>4742.830078</td>\n",
       "      <td>0</td>\n",
       "    </tr>\n",
       "    <tr>\n",
       "      <th>8565</th>\n",
       "      <td>4745.200195</td>\n",
       "      <td>4754.330078</td>\n",
       "      <td>4722.669922</td>\n",
       "      <td>4742.830078</td>\n",
       "      <td>3743050000</td>\n",
       "      <td>2024-01-02 05:00:00+00:00</td>\n",
       "      <td>4704.810059</td>\n",
       "      <td>0</td>\n",
       "    </tr>\n",
       "    <tr>\n",
       "      <th>8566</th>\n",
       "      <td>4725.069824</td>\n",
       "      <td>4729.290039</td>\n",
       "      <td>4699.709961</td>\n",
       "      <td>4704.810059</td>\n",
       "      <td>3950760000</td>\n",
       "      <td>2024-01-03 05:00:00+00:00</td>\n",
       "      <td>4688.680176</td>\n",
       "      <td>0</td>\n",
       "    </tr>\n",
       "    <tr>\n",
       "      <th>8567</th>\n",
       "      <td>4697.419922</td>\n",
       "      <td>4726.779785</td>\n",
       "      <td>4687.529785</td>\n",
       "      <td>4688.680176</td>\n",
       "      <td>3715480000</td>\n",
       "      <td>2024-01-04 05:00:00+00:00</td>\n",
       "      <td>4697.240234</td>\n",
       "      <td>1</td>\n",
       "    </tr>\n",
       "    <tr>\n",
       "      <th>8568</th>\n",
       "      <td>4690.569824</td>\n",
       "      <td>4721.490234</td>\n",
       "      <td>4682.109863</td>\n",
       "      <td>4697.240234</td>\n",
       "      <td>3844370000</td>\n",
       "      <td>2024-01-05 05:00:00+00:00</td>\n",
       "      <td>NaN</td>\n",
       "      <td>0</td>\n",
       "    </tr>\n",
       "  </tbody>\n",
       "</table>\n",
       "<p>8569 rows × 8 columns</p>\n",
       "</div>"
      ],
      "text/plain": [
       "             open         high          low        close      volume  \\\n",
       "0      353.399994   359.690002   351.980011   359.690002   162070000   \n",
       "1      359.690002   360.589996   357.890015   358.760010   192330000   \n",
       "2      358.760010   358.760010   352.890015   355.670013   177000000   \n",
       "3      355.670013   355.670013   351.350006   352.200012   158530000   \n",
       "4      352.200012   354.239990   350.540009   353.790009   140110000   \n",
       "...           ...          ...          ...          ...         ...   \n",
       "8564  4782.879883  4788.430176  4751.990234  4769.830078  3126060000   \n",
       "8565  4745.200195  4754.330078  4722.669922  4742.830078  3743050000   \n",
       "8566  4725.069824  4729.290039  4699.709961  4704.810059  3950760000   \n",
       "8567  4697.419922  4726.779785  4687.529785  4688.680176  3715480000   \n",
       "8568  4690.569824  4721.490234  4682.109863  4697.240234  3844370000   \n",
       "\n",
       "                     date_copy     tomorrow  target  \n",
       "0    1990-01-02 05:00:00+00:00   358.760010       0  \n",
       "1    1990-01-03 05:00:00+00:00   355.670013       0  \n",
       "2    1990-01-04 05:00:00+00:00   352.200012       0  \n",
       "3    1990-01-05 05:00:00+00:00   353.790009       1  \n",
       "4    1990-01-08 05:00:00+00:00   349.619995       0  \n",
       "...                        ...          ...     ...  \n",
       "8564 2023-12-29 05:00:00+00:00  4742.830078       0  \n",
       "8565 2024-01-02 05:00:00+00:00  4704.810059       0  \n",
       "8566 2024-01-03 05:00:00+00:00  4688.680176       0  \n",
       "8567 2024-01-04 05:00:00+00:00  4697.240234       1  \n",
       "8568 2024-01-05 05:00:00+00:00          NaN       0  \n",
       "\n",
       "[8569 rows x 8 columns]"
      ]
     },
     "execution_count": 75,
     "metadata": {},
     "output_type": "execute_result"
    }
   ],
   "source": [
    "df_sp500"
   ]
  },
  {
   "cell_type": "code",
   "execution_count": 76,
   "id": "d05fa97e",
   "metadata": {},
   "outputs": [
    {
     "data": {
      "text/html": [
       "<style>#sk-container-id-2 {color: black;background-color: white;}#sk-container-id-2 pre{padding: 0;}#sk-container-id-2 div.sk-toggleable {background-color: white;}#sk-container-id-2 label.sk-toggleable__label {cursor: pointer;display: block;width: 100%;margin-bottom: 0;padding: 0.3em;box-sizing: border-box;text-align: center;}#sk-container-id-2 label.sk-toggleable__label-arrow:before {content: \"▸\";float: left;margin-right: 0.25em;color: #696969;}#sk-container-id-2 label.sk-toggleable__label-arrow:hover:before {color: black;}#sk-container-id-2 div.sk-estimator:hover label.sk-toggleable__label-arrow:before {color: black;}#sk-container-id-2 div.sk-toggleable__content {max-height: 0;max-width: 0;overflow: hidden;text-align: left;background-color: #f0f8ff;}#sk-container-id-2 div.sk-toggleable__content pre {margin: 0.2em;color: black;border-radius: 0.25em;background-color: #f0f8ff;}#sk-container-id-2 input.sk-toggleable__control:checked~div.sk-toggleable__content {max-height: 200px;max-width: 100%;overflow: auto;}#sk-container-id-2 input.sk-toggleable__control:checked~label.sk-toggleable__label-arrow:before {content: \"▾\";}#sk-container-id-2 div.sk-estimator input.sk-toggleable__control:checked~label.sk-toggleable__label {background-color: #d4ebff;}#sk-container-id-2 div.sk-label input.sk-toggleable__control:checked~label.sk-toggleable__label {background-color: #d4ebff;}#sk-container-id-2 input.sk-hidden--visually {border: 0;clip: rect(1px 1px 1px 1px);clip: rect(1px, 1px, 1px, 1px);height: 1px;margin: -1px;overflow: hidden;padding: 0;position: absolute;width: 1px;}#sk-container-id-2 div.sk-estimator {font-family: monospace;background-color: #f0f8ff;border: 1px dotted black;border-radius: 0.25em;box-sizing: border-box;margin-bottom: 0.5em;}#sk-container-id-2 div.sk-estimator:hover {background-color: #d4ebff;}#sk-container-id-2 div.sk-parallel-item::after {content: \"\";width: 100%;border-bottom: 1px solid gray;flex-grow: 1;}#sk-container-id-2 div.sk-label:hover label.sk-toggleable__label {background-color: #d4ebff;}#sk-container-id-2 div.sk-serial::before {content: \"\";position: absolute;border-left: 1px solid gray;box-sizing: border-box;top: 0;bottom: 0;left: 50%;z-index: 0;}#sk-container-id-2 div.sk-serial {display: flex;flex-direction: column;align-items: center;background-color: white;padding-right: 0.2em;padding-left: 0.2em;position: relative;}#sk-container-id-2 div.sk-item {position: relative;z-index: 1;}#sk-container-id-2 div.sk-parallel {display: flex;align-items: stretch;justify-content: center;background-color: white;position: relative;}#sk-container-id-2 div.sk-item::before, #sk-container-id-2 div.sk-parallel-item::before {content: \"\";position: absolute;border-left: 1px solid gray;box-sizing: border-box;top: 0;bottom: 0;left: 50%;z-index: -1;}#sk-container-id-2 div.sk-parallel-item {display: flex;flex-direction: column;z-index: 1;position: relative;background-color: white;}#sk-container-id-2 div.sk-parallel-item:first-child::after {align-self: flex-end;width: 50%;}#sk-container-id-2 div.sk-parallel-item:last-child::after {align-self: flex-start;width: 50%;}#sk-container-id-2 div.sk-parallel-item:only-child::after {width: 0;}#sk-container-id-2 div.sk-dashed-wrapped {border: 1px dashed gray;margin: 0 0.4em 0.5em 0.4em;box-sizing: border-box;padding-bottom: 0.4em;background-color: white;}#sk-container-id-2 div.sk-label label {font-family: monospace;font-weight: bold;display: inline-block;line-height: 1.2em;}#sk-container-id-2 div.sk-label-container {text-align: center;}#sk-container-id-2 div.sk-container {/* jupyter's `normalize.less` sets `[hidden] { display: none; }` but bootstrap.min.css set `[hidden] { display: none !important; }` so we also need the `!important` here to be able to override the default hidden behavior on the sphinx rendered scikit-learn.org. See: https://github.com/scikit-learn/scikit-learn/issues/21755 */display: inline-block !important;position: relative;}#sk-container-id-2 div.sk-text-repr-fallback {display: none;}</style><div id=\"sk-container-id-2\" class=\"sk-top-container\"><div class=\"sk-text-repr-fallback\"><pre>RandomForestClassifier(min_samples_split=100, random_state=1)</pre><b>In a Jupyter environment, please rerun this cell to show the HTML representation or trust the notebook. <br />On GitHub, the HTML representation is unable to render, please try loading this page with nbviewer.org.</b></div><div class=\"sk-container\" hidden><div class=\"sk-item\"><div class=\"sk-estimator sk-toggleable\"><input class=\"sk-toggleable__control sk-hidden--visually\" id=\"sk-estimator-id-2\" type=\"checkbox\" checked><label for=\"sk-estimator-id-2\" class=\"sk-toggleable__label sk-toggleable__label-arrow\">RandomForestClassifier</label><div class=\"sk-toggleable__content\"><pre>RandomForestClassifier(min_samples_split=100, random_state=1)</pre></div></div></div></div></div>"
      ],
      "text/plain": [
       "RandomForestClassifier(min_samples_split=100, random_state=1)"
      ]
     },
     "execution_count": 76,
     "metadata": {},
     "output_type": "execute_result"
    }
   ],
   "source": [
    "#Creating a model and testing with the existing features\n",
    "model = RandomForestClassifier(n_estimators=100, min_samples_split=100, random_state=1)\n",
    "train = df_sp500[:-100]\n",
    "test = df_sp500[-100:]\n",
    "\n",
    "predictors = [\"close\", \"volume\", \"open\", \"high\", \"low\"]\n",
    "model.fit(train[predictors], train[\"target\"])"
   ]
  },
  {
   "cell_type": "code",
   "execution_count": 77,
   "id": "fb181928",
   "metadata": {},
   "outputs": [
    {
     "data": {
      "text/plain": [
       "0.55"
      ]
     },
     "execution_count": 77,
     "metadata": {},
     "output_type": "execute_result"
    }
   ],
   "source": [
    "from sklearn.metrics import precision_score\n",
    "\n",
    "preds = model.predict(test[predictors])\n",
    "preds = pd.Series(preds, index=test.index, name = \"predictions\")\n",
    "precision_score(test[\"target\"], preds)"
   ]
  },
  {
   "cell_type": "code",
   "execution_count": 78,
   "id": "60fb76a4",
   "metadata": {},
   "outputs": [
    {
     "data": {
      "text/plain": [
       "<Axes: xlabel='date_copy'>"
      ]
     },
     "execution_count": 78,
     "metadata": {},
     "output_type": "execute_result"
    },
    {
     "data": {
      "image/png": "[encoded data removed]",
      "text/plain": [
       "<Figure size 640x480 with 1 Axes>"
      ]
     },
     "metadata": {},
     "output_type": "display_data"
    }
   ],
   "source": [
    "combined = pd.concat([test[\"target\"], preds], axis=1)\n",
    "\n",
    "# Assuming \"Date\" is the column containing datetime information\n",
    "combined.index = pd.to_datetime(test[\"date_copy\"])\n",
    "combined.plot(y=[\"target\", \"predictions\"])"
   ]
  },
  {
   "cell_type": "code",
   "execution_count": 79,
   "id": "b623df95",
   "metadata": {},
   "outputs": [],
   "source": [
    "def predict(train, test, predictors, model):\n",
    "    model.fit(train[predictors], train[\"target\"])\n",
    "    preds = model.predict(test[predictors])\n",
    "    preds = pd.Series(preds, index=test.index, name=\"Predictions\")\n",
    "    combined = pd.concat([test[\"target\"], preds], axis=1)\n",
    "    return combined"
   ]
  },
  {
   "cell_type": "code",
   "execution_count": 80,
   "id": "136fcea9",
   "metadata": {},
   "outputs": [],
   "source": [
    "def backtest(data, model, predictors, start=2500, step=250):\n",
    "    all_predictions = []\n",
    "\n",
    "    for i in range(start, data.shape[0], step):\n",
    "        train = data.iloc[0:i].copy()\n",
    "        test = data.iloc[i:(i+step)].copy()\n",
    "        predictions = predict(train, test, predictors, model)\n",
    "        all_predictions.append(predictions)\n",
    "    \n",
    "    return pd.concat(all_predictions)"
   ]
  },
  {
   "cell_type": "code",
   "execution_count": 81,
   "id": "1f7ccda1",
   "metadata": {},
   "outputs": [],
   "source": [
    "predictions = backtest(df_sp500, model, predictors)"
   ]
  },
  {
   "cell_type": "code",
   "execution_count": 82,
   "id": "b38eb8a8",
   "metadata": {},
   "outputs": [
    {
     "data": {
      "text/plain": [
       "Predictions\n",
       "0    3473\n",
       "1    2596\n",
       "Name: count, dtype: int64"
      ]
     },
     "execution_count": 82,
     "metadata": {},
     "output_type": "execute_result"
    }
   ],
   "source": [
    "predictions[\"Predictions\"].value_counts()"
   ]
  },
  {
   "cell_type": "code",
   "execution_count": 83,
   "id": "62158648",
   "metadata": {},
   "outputs": [
    {
     "data": {
      "text/plain": [
       "0.5288906009244992"
      ]
     },
     "execution_count": 83,
     "metadata": {},
     "output_type": "execute_result"
    }
   ],
   "source": [
    "precision_score(predictions[\"target\"], predictions[\"Predictions\"])"
   ]
  },
  {
   "cell_type": "code",
   "execution_count": 84,
   "id": "8f29c0d1",
   "metadata": {},
   "outputs": [
    {
     "data": {
      "text/plain": [
       "target\n",
       "1    0.534355\n",
       "0    0.465645\n",
       "Name: count, dtype: float64"
      ]
     },
     "execution_count": 84,
     "metadata": {},
     "output_type": "execute_result"
    }
   ],
   "source": [
    "predictions[\"target\"].value_counts() / predictions.shape[0]"
   ]
  },
  {
   "cell_type": "code",
   "execution_count": 85,
   "id": "0a4ad58c",
   "metadata": {},
   "outputs": [
    {
     "data": {
      "text/plain": [
       "<bound method DataFrame.info of              open         high          low        close      volume  \\\n",
       "0      353.399994   359.690002   351.980011   359.690002   162070000   \n",
       "1      359.690002   360.589996   357.890015   358.760010   192330000   \n",
       "2      358.760010   358.760010   352.890015   355.670013   177000000   \n",
       "3      355.670013   355.670013   351.350006   352.200012   158530000   \n",
       "4      352.200012   354.239990   350.540009   353.790009   140110000   \n",
       "...           ...          ...          ...          ...         ...   \n",
       "8564  4782.879883  4788.430176  4751.990234  4769.830078  3126060000   \n",
       "8565  4745.200195  4754.330078  4722.669922  4742.830078  3743050000   \n",
       "8566  4725.069824  4729.290039  4699.709961  4704.810059  3950760000   \n",
       "8567  4697.419922  4726.779785  4687.529785  4688.680176  3715480000   \n",
       "8568  4690.569824  4721.490234  4682.109863  4697.240234  3844370000   \n",
       "\n",
       "                     date_copy     tomorrow  target  \n",
       "0    1990-01-02 05:00:00+00:00   358.760010       0  \n",
       "1    1990-01-03 05:00:00+00:00   355.670013       0  \n",
       "2    1990-01-04 05:00:00+00:00   352.200012       0  \n",
       "3    1990-01-05 05:00:00+00:00   353.790009       1  \n",
       "4    1990-01-08 05:00:00+00:00   349.619995       0  \n",
       "...                        ...          ...     ...  \n",
       "8564 2023-12-29 05:00:00+00:00  4742.830078       0  \n",
       "8565 2024-01-02 05:00:00+00:00  4704.810059       0  \n",
       "8566 2024-01-03 05:00:00+00:00  4688.680176       0  \n",
       "8567 2024-01-04 05:00:00+00:00  4697.240234       1  \n",
       "8568 2024-01-05 05:00:00+00:00          NaN       0  \n",
       "\n",
       "[8569 rows x 8 columns]>"
      ]
     },
     "execution_count": 85,
     "metadata": {},
     "output_type": "execute_result"
    }
   ],
   "source": [
    "df_sp500.info"
   ]
  },
  {
   "cell_type": "code",
   "execution_count": 86,
   "id": "bbe90312",
   "metadata": {},
   "outputs": [
    {
     "data": {
      "text/html": [
       "<div>\n",
       "<style scoped>\n",
       "    .dataframe tbody tr th:only-of-type {\n",
       "        vertical-align: middle;\n",
       "    }\n",
       "\n",
       "    .dataframe tbody tr th {\n",
       "        vertical-align: top;\n",
       "    }\n",
       "\n",
       "    .dataframe thead th {\n",
       "        text-align: right;\n",
       "    }\n",
       "</style>\n",
       "<table border=\"1\" class=\"dataframe\">\n",
       "  <thead>\n",
       "    <tr style=\"text-align: right;\">\n",
       "      <th></th>\n",
       "      <th>open</th>\n",
       "      <th>high</th>\n",
       "      <th>low</th>\n",
       "      <th>close</th>\n",
       "      <th>volume</th>\n",
       "      <th>date_copy</th>\n",
       "      <th>tomorrow</th>\n",
       "      <th>target</th>\n",
       "    </tr>\n",
       "  </thead>\n",
       "  <tbody>\n",
       "    <tr>\n",
       "      <th>0</th>\n",
       "      <td>353.399994</td>\n",
       "      <td>359.690002</td>\n",
       "      <td>351.980011</td>\n",
       "      <td>359.690002</td>\n",
       "      <td>162070000</td>\n",
       "      <td>1990-01-02 05:00:00+00:00</td>\n",
       "      <td>358.760010</td>\n",
       "      <td>0</td>\n",
       "    </tr>\n",
       "    <tr>\n",
       "      <th>1</th>\n",
       "      <td>359.690002</td>\n",
       "      <td>360.589996</td>\n",
       "      <td>357.890015</td>\n",
       "      <td>358.760010</td>\n",
       "      <td>192330000</td>\n",
       "      <td>1990-01-03 05:00:00+00:00</td>\n",
       "      <td>355.670013</td>\n",
       "      <td>0</td>\n",
       "    </tr>\n",
       "    <tr>\n",
       "      <th>2</th>\n",
       "      <td>358.760010</td>\n",
       "      <td>358.760010</td>\n",
       "      <td>352.890015</td>\n",
       "      <td>355.670013</td>\n",
       "      <td>177000000</td>\n",
       "      <td>1990-01-04 05:00:00+00:00</td>\n",
       "      <td>352.200012</td>\n",
       "      <td>0</td>\n",
       "    </tr>\n",
       "    <tr>\n",
       "      <th>3</th>\n",
       "      <td>355.670013</td>\n",
       "      <td>355.670013</td>\n",
       "      <td>351.350006</td>\n",
       "      <td>352.200012</td>\n",
       "      <td>158530000</td>\n",
       "      <td>1990-01-05 05:00:00+00:00</td>\n",
       "      <td>353.790009</td>\n",
       "      <td>1</td>\n",
       "    </tr>\n",
       "    <tr>\n",
       "      <th>4</th>\n",
       "      <td>352.200012</td>\n",
       "      <td>354.239990</td>\n",
       "      <td>350.540009</td>\n",
       "      <td>353.790009</td>\n",
       "      <td>140110000</td>\n",
       "      <td>1990-01-08 05:00:00+00:00</td>\n",
       "      <td>349.619995</td>\n",
       "      <td>0</td>\n",
       "    </tr>\n",
       "    <tr>\n",
       "      <th>...</th>\n",
       "      <td>...</td>\n",
       "      <td>...</td>\n",
       "      <td>...</td>\n",
       "      <td>...</td>\n",
       "      <td>...</td>\n",
       "      <td>...</td>\n",
       "      <td>...</td>\n",
       "      <td>...</td>\n",
       "    </tr>\n",
       "    <tr>\n",
       "      <th>8564</th>\n",
       "      <td>4782.879883</td>\n",
       "      <td>4788.430176</td>\n",
       "      <td>4751.990234</td>\n",
       "      <td>4769.830078</td>\n",
       "      <td>3126060000</td>\n",
       "      <td>2023-12-29 05:00:00+00:00</td>\n",
       "      <td>4742.830078</td>\n",
       "      <td>0</td>\n",
       "    </tr>\n",
       "    <tr>\n",
       "      <th>8565</th>\n",
       "      <td>4745.200195</td>\n",
       "      <td>4754.330078</td>\n",
       "      <td>4722.669922</td>\n",
       "      <td>4742.830078</td>\n",
       "      <td>3743050000</td>\n",
       "      <td>2024-01-02 05:00:00+00:00</td>\n",
       "      <td>4704.810059</td>\n",
       "      <td>0</td>\n",
       "    </tr>\n",
       "    <tr>\n",
       "      <th>8566</th>\n",
       "      <td>4725.069824</td>\n",
       "      <td>4729.290039</td>\n",
       "      <td>4699.709961</td>\n",
       "      <td>4704.810059</td>\n",
       "      <td>3950760000</td>\n",
       "      <td>2024-01-03 05:00:00+00:00</td>\n",
       "      <td>4688.680176</td>\n",
       "      <td>0</td>\n",
       "    </tr>\n",
       "    <tr>\n",
       "      <th>8567</th>\n",
       "      <td>4697.419922</td>\n",
       "      <td>4726.779785</td>\n",
       "      <td>4687.529785</td>\n",
       "      <td>4688.680176</td>\n",
       "      <td>3715480000</td>\n",
       "      <td>2024-01-04 05:00:00+00:00</td>\n",
       "      <td>4697.240234</td>\n",
       "      <td>1</td>\n",
       "    </tr>\n",
       "    <tr>\n",
       "      <th>8568</th>\n",
       "      <td>4690.569824</td>\n",
       "      <td>4721.490234</td>\n",
       "      <td>4682.109863</td>\n",
       "      <td>4697.240234</td>\n",
       "      <td>3844370000</td>\n",
       "      <td>2024-01-05 05:00:00+00:00</td>\n",
       "      <td>NaN</td>\n",
       "      <td>0</td>\n",
       "    </tr>\n",
       "  </tbody>\n",
       "</table>\n",
       "<p>8569 rows × 8 columns</p>\n",
       "</div>"
      ],
      "text/plain": [
       "             open         high          low        close      volume  \\\n",
       "0      353.399994   359.690002   351.980011   359.690002   162070000   \n",
       "1      359.690002   360.589996   357.890015   358.760010   192330000   \n",
       "2      358.760010   358.760010   352.890015   355.670013   177000000   \n",
       "3      355.670013   355.670013   351.350006   352.200012   158530000   \n",
       "4      352.200012   354.239990   350.540009   353.790009   140110000   \n",
       "...           ...          ...          ...          ...         ...   \n",
       "8564  4782.879883  4788.430176  4751.990234  4769.830078  3126060000   \n",
       "8565  4745.200195  4754.330078  4722.669922  4742.830078  3743050000   \n",
       "8566  4725.069824  4729.290039  4699.709961  4704.810059  3950760000   \n",
       "8567  4697.419922  4726.779785  4687.529785  4688.680176  3715480000   \n",
       "8568  4690.569824  4721.490234  4682.109863  4697.240234  3844370000   \n",
       "\n",
       "                     date_copy     tomorrow  target  \n",
       "0    1990-01-02 05:00:00+00:00   358.760010       0  \n",
       "1    1990-01-03 05:00:00+00:00   355.670013       0  \n",
       "2    1990-01-04 05:00:00+00:00   352.200012       0  \n",
       "3    1990-01-05 05:00:00+00:00   353.790009       1  \n",
       "4    1990-01-08 05:00:00+00:00   349.619995       0  \n",
       "...                        ...          ...     ...  \n",
       "8564 2023-12-29 05:00:00+00:00  4742.830078       0  \n",
       "8565 2024-01-02 05:00:00+00:00  4704.810059       0  \n",
       "8566 2024-01-03 05:00:00+00:00  4688.680176       0  \n",
       "8567 2024-01-04 05:00:00+00:00  4697.240234       1  \n",
       "8568 2024-01-05 05:00:00+00:00          NaN       0  \n",
       "\n",
       "[8569 rows x 8 columns]"
      ]
     },
     "execution_count": 86,
     "metadata": {},
     "output_type": "execute_result"
    }
   ],
   "source": [
    "df_sp500"
   ]
  },
  {
   "cell_type": "code",
   "execution_count": 87,
   "id": "4a6e01cf",
   "metadata": {},
   "outputs": [],
   "source": [
    "horizons = [2,5,60,250,1000]\n",
    "date_copy=df_sp500['date_copy'].copy()\n",
    "df_sp500 = df_sp500.drop(columns=['date_copy'])\n",
    "\n",
    "for horizon in horizons:\n",
    "    rolling_averages = df_sp500.rolling(horizon).mean()\n",
    "    \n",
    "    ratio_column = f\"close_ratio_{horizon}\"\n",
    "    df_sp500[ratio_column] = df_sp500[\"close\"] / rolling_averages[\"close\"]\n",
    "    \n",
    "    trend_column = f\"trend_{horizon}\"\n",
    "    df_sp500[trend_column] = df_sp500.shift(1).rolling(horizon).sum()[\"target\"]\n",
    "    \n",
    "    #new_predictors+= [ratio_column, trend_column]\n",
    "\n",
    "df_sp500['date_copy']=date_copy.copy()\n",
    "\n",
    "\n",
    "new_predictors = ['close_ratio_2','trend_2','close_ratio_5','trend_5','close_ratio_60','trend_60','close_ratio_250','trend_250','close_ratio_1000','trend_1000','close','volume','open','high','low']"
   ]
  },
  {
   "cell_type": "code",
   "execution_count": 88,
   "id": "a0622b03",
   "metadata": {},
   "outputs": [],
   "source": [
    "# #Drop rows with missing values (NaN) in any column except the \"Tomorrow\" column\n",
    "\n",
    "df_sp500 = df_sp500.dropna(subset=df_sp500.columns[df_sp500.columns != \"tomorrow\"])"
   ]
  },
  {
   "cell_type": "code",
   "execution_count": 89,
   "id": "fb4b22ed",
   "metadata": {},
   "outputs": [
    {
     "data": {
      "text/plain": [
       "Index(['open', 'high', 'low', 'close', 'volume', 'tomorrow', 'target',\n",
       "       'close_ratio_2', 'trend_2', 'close_ratio_5', 'trend_5',\n",
       "       'close_ratio_60', 'trend_60', 'close_ratio_250', 'trend_250',\n",
       "       'close_ratio_1000', 'trend_1000', 'date_copy'],\n",
       "      dtype='object')"
      ]
     },
     "execution_count": 89,
     "metadata": {},
     "output_type": "execute_result"
    }
   ],
   "source": [
    "df_sp500.columns"
   ]
  },
  {
   "cell_type": "code",
   "execution_count": 39,
   "id": "3ba31939",
   "metadata": {},
   "outputs": [
    {
     "data": {
      "text/plain": [
       "['close_ratio_2',\n",
       " 'trend_2',\n",
       " 'close_ratio_5',\n",
       " 'trend_5',\n",
       " 'close_ratio_60',\n",
       " 'trend_60',\n",
       " 'close_ratio_250',\n",
       " 'trend_250',\n",
       " 'close_ratio_1000',\n",
       " 'trend_1000',\n",
       " 'close',\n",
       " 'volume',\n",
       " 'open',\n",
       " 'high',\n",
       " 'low']"
      ]
     },
     "execution_count": 39,
     "metadata": {},
     "output_type": "execute_result"
    }
   ],
   "source": [
    "new_predictors"
   ]
  },
  {
   "cell_type": "code",
   "execution_count": 90,
   "id": "4581b703",
   "metadata": {},
   "outputs": [],
   "source": [
    "model2 = RandomForestClassifier(n_estimators=200, min_samples_split=50, random_state=1)"
   ]
  },
  {
   "cell_type": "code",
   "execution_count": 91,
   "id": "b01b6b77",
   "metadata": {},
   "outputs": [],
   "source": [
    "def predict(train, test, predictors, model):\n",
    "    model.fit(train[predictors], train[\"target\"])\n",
    "    preds = model.predict_proba(test[predictors])[:,1]\n",
    "    preds[preds >=.6] = 1\n",
    "    preds[preds <.6] = 0\n",
    "    preds = pd.Series(preds, index=test.index, name=\"predictions\")\n",
    "    combined = pd.concat([test[\"target\"], preds], axis=1)\n",
    "    return combined\n",
    "\n",
    "def backtest(data, model, predictors, start=2500, step=250):\n",
    "    all_predictions = []\n",
    "\n",
    "    for i in range(start, data.shape[0], step):\n",
    "        train = data.iloc[0:i].copy()\n",
    "        test = data.iloc[i:(i+step)].copy()\n",
    "        predictions = predict(train, test, predictors, model)\n",
    "        all_predictions.append(predictions)\n",
    "    \n",
    "    return pd.concat(all_predictions)"
   ]
  },
  {
   "cell_type": "code",
   "execution_count": 92,
   "id": "fefd84dc",
   "metadata": {},
   "outputs": [],
   "source": [
    "predictions = backtest(df_sp500, model2, new_predictors)"
   ]
  },
  {
   "cell_type": "code",
   "execution_count": 93,
   "id": "cf561fc4",
   "metadata": {},
   "outputs": [
    {
     "data": {
      "text/plain": [
       "predictions\n",
       "0.0    4572\n",
       "1.0     497\n",
       "Name: count, dtype: int64"
      ]
     },
     "execution_count": 93,
     "metadata": {},
     "output_type": "execute_result"
    }
   ],
   "source": [
    "predictions[\"predictions\"].value_counts()"
   ]
  },
  {
   "cell_type": "code",
   "execution_count": 94,
   "id": "5e43bd27",
   "metadata": {},
   "outputs": [
    {
     "data": {
      "text/plain": [
       "0.5513078470824949"
      ]
     },
     "execution_count": 94,
     "metadata": {},
     "output_type": "execute_result"
    }
   ],
   "source": [
    "precision_score_metrics=precision_score(predictions[\"target\"], predictions[\"predictions\"])\n",
    "precision_score_metrics"
   ]
  },
  {
   "cell_type": "code",
   "execution_count": 95,
   "id": "182a0ae8",
   "metadata": {},
   "outputs": [
    {
     "data": {
      "text/plain": [
       "target\n",
       "1    0.544092\n",
       "0    0.455908\n",
       "Name: count, dtype: float64"
      ]
     },
     "execution_count": 95,
     "metadata": {},
     "output_type": "execute_result"
    }
   ],
   "source": [
    "predictions[\"target\"].value_counts() / predictions.shape[0]"
   ]
  },
  {
   "cell_type": "code",
   "execution_count": 96,
   "id": "d3204fc9",
   "metadata": {},
   "outputs": [
    {
     "data": {
      "text/html": [
       "<div>\n",
       "<style scoped>\n",
       "    .dataframe tbody tr th:only-of-type {\n",
       "        vertical-align: middle;\n",
       "    }\n",
       "\n",
       "    .dataframe tbody tr th {\n",
       "        vertical-align: top;\n",
       "    }\n",
       "\n",
       "    .dataframe thead th {\n",
       "        text-align: right;\n",
       "    }\n",
       "</style>\n",
       "<table border=\"1\" class=\"dataframe\">\n",
       "  <thead>\n",
       "    <tr style=\"text-align: right;\">\n",
       "      <th></th>\n",
       "      <th>target</th>\n",
       "      <th>predictions</th>\n",
       "    </tr>\n",
       "  </thead>\n",
       "  <tbody>\n",
       "    <tr>\n",
       "      <th>3500</th>\n",
       "      <td>0</td>\n",
       "      <td>0.0</td>\n",
       "    </tr>\n",
       "    <tr>\n",
       "      <th>3501</th>\n",
       "      <td>0</td>\n",
       "      <td>1.0</td>\n",
       "    </tr>\n",
       "    <tr>\n",
       "      <th>3502</th>\n",
       "      <td>1</td>\n",
       "      <td>1.0</td>\n",
       "    </tr>\n",
       "    <tr>\n",
       "      <th>3503</th>\n",
       "      <td>0</td>\n",
       "      <td>0.0</td>\n",
       "    </tr>\n",
       "    <tr>\n",
       "      <th>3504</th>\n",
       "      <td>1</td>\n",
       "      <td>1.0</td>\n",
       "    </tr>\n",
       "    <tr>\n",
       "      <th>...</th>\n",
       "      <td>...</td>\n",
       "      <td>...</td>\n",
       "    </tr>\n",
       "    <tr>\n",
       "      <th>8564</th>\n",
       "      <td>0</td>\n",
       "      <td>0.0</td>\n",
       "    </tr>\n",
       "    <tr>\n",
       "      <th>8565</th>\n",
       "      <td>0</td>\n",
       "      <td>0.0</td>\n",
       "    </tr>\n",
       "    <tr>\n",
       "      <th>8566</th>\n",
       "      <td>0</td>\n",
       "      <td>0.0</td>\n",
       "    </tr>\n",
       "    <tr>\n",
       "      <th>8567</th>\n",
       "      <td>1</td>\n",
       "      <td>0.0</td>\n",
       "    </tr>\n",
       "    <tr>\n",
       "      <th>8568</th>\n",
       "      <td>0</td>\n",
       "      <td>0.0</td>\n",
       "    </tr>\n",
       "  </tbody>\n",
       "</table>\n",
       "<p>5069 rows × 2 columns</p>\n",
       "</div>"
      ],
      "text/plain": [
       "      target  predictions\n",
       "3500       0          0.0\n",
       "3501       0          1.0\n",
       "3502       1          1.0\n",
       "3503       0          0.0\n",
       "3504       1          1.0\n",
       "...      ...          ...\n",
       "8564       0          0.0\n",
       "8565       0          0.0\n",
       "8566       0          0.0\n",
       "8567       1          0.0\n",
       "8568       0          0.0\n",
       "\n",
       "[5069 rows x 2 columns]"
      ]
     },
     "execution_count": 96,
     "metadata": {},
     "output_type": "execute_result"
    }
   ],
   "source": [
    "predictions"
   ]
  },
  {
   "cell_type": "code",
   "execution_count": 98,
   "id": "5287485a",
   "metadata": {},
   "outputs": [
    {
     "name": "stdout",
     "output_type": "stream",
     "text": [
      "Accuracy on Cross-Validation Set: 0.4963161419959813\n"
     ]
    }
   ],
   "source": [
    "#Hyperparameter tuning\n",
    "from sklearn.model_selection import TimeSeriesSplit, cross_val_score, GridSearchCV\n",
    "from sklearn.ensemble import RandomForestClassifier\n",
    "from sklearn.metrics import accuracy_score\n",
    "import pandas as pd\n",
    "\n",
    "# Assuming X and y are your features and labels\n",
    "# X, y = ...\n",
    "X = df_sp500[new_predictors][:-100]\n",
    "y = df_sp500[\"target\"][:-100]\n",
    "X_test = df_sp500[new_predictors][-100:]\n",
    "y_test = df_sp500[\"target\"][-100:]\n",
    "#================================================================================================\n",
    "\n",
    "# Define the parameter grid to search through\n",
    "param_grid = {\n",
    "    'n_estimators': [50, 100, 200, 300],\n",
    "    'max_depth': [None, 10, 20, 30],\n",
    "    'min_samples_split': [2, 5, 10, 50]\n",
    "}\n",
    "\n",
    "# Initialize the Random Forest Classifier\n",
    "rf_classifier = RandomForestClassifier()\n",
    "\n",
    "# Initialize TimeSeriesSplit\n",
    "tscv = TimeSeriesSplit(n_splits=4)  # Adjust the number of splits as needed\n",
    "\n",
    "# Initialize GridSearchCV with TimeSeriesSplit\n",
    "grid_search = GridSearchCV(estimator=rf_classifier, param_grid=param_grid, cv=tscv, scoring='accuracy')\n",
    "\n",
    "# Fit the model to the data\n",
    "grid_search.fit(X, y)\n",
    "\n",
    "# Get the best model\n",
    "best_rf_model = grid_search.best_estimator_\n",
    "\n",
    "# Make predictions using cross_val_score\n",
    "cv_scores = cross_val_score(best_rf_model, X, y, cv=tscv, scoring='accuracy')\n",
    "\n",
    "# Evaluate the model\n",
    "print(\"Accuracy on Cross-Validation Set:\", cv_scores.mean())"
   ]
  },
  {
   "cell_type": "code",
   "execution_count": 99,
   "id": "09753ecb",
   "metadata": {},
   "outputs": [
    {
     "name": "stdout",
     "output_type": "stream",
     "text": [
      "Accuracy on Test Set: 0.52\n"
     ]
    }
   ],
   "source": [
    "# Assuming X_test is your test set features\n",
    "# X_test, y_test = ...\n",
    "\n",
    "# Make predictions on the test set\n",
    "y_pred = best_rf_model.predict(X_test)\n",
    "\n",
    "# Evaluate the model\n",
    "accuracy = accuracy_score(y_test, y_pred)\n",
    "print(\"Accuracy on Test Set:\", accuracy)\n"
   ]
  },
  {
   "cell_type": "code",
   "execution_count": 100,
   "id": "7bffebe9",
   "metadata": {},
   "outputs": [
    {
     "data": {
      "text/plain": [
       "0.5689655172413793"
      ]
     },
     "execution_count": 100,
     "metadata": {},
     "output_type": "execute_result"
    }
   ],
   "source": [
    "precision_score(y_test, y_pred)"
   ]
  },
  {
   "cell_type": "code",
   "execution_count": 101,
   "id": "8ac6264e",
   "metadata": {},
   "outputs": [],
   "source": [
    "# from sklearn.model_selection import TimeSeriesSplit, cross_val_score\n",
    "# from sklearn.ensemble import RandomForestClassifier\n",
    "# from sklearn.metrics import accuracy_score\n",
    "# import pandas as pd\n",
    "\n",
    "# # Assuming X and y are your features and labels\n",
    "# # X, y = ...\n",
    "# X = df_sp500[predictors][:-100]\n",
    "# y = df_sp500[\"target\"][:-100]\n",
    "# X_test = df_sp500[predictors][-100:]\n",
    "# y_test = df_sp500[\"target\"][-100:]\n",
    "# #================================================================================================\n",
    "\n",
    "# # Define the parameter grid to search through\n",
    "# param_grid = {\n",
    "#     'n_estimators': [50, 100, 200],\n",
    "#     'max_depth': [None, 10, 20],\n",
    "#     'min_samples_split': [2, 5, 10]\n",
    "# }\n",
    "\n",
    "# # Initialize the Random Forest Classifier\n",
    "# rf_classifier = RandomForestClassifier()\n",
    "\n",
    "# # Initialize TimeSeriesSplit\n",
    "# tscv = TimeSeriesSplit(n_splits=3)  # Adjust the number of splits as needed\n",
    "\n",
    "# # Initialize GridSearchCV with TimeSeriesSplit\n",
    "# grid_search = GridSearchCV(estimator=rf_classifier, param_grid=param_grid, cv=tscv, scoring='accuracy')\n",
    "\n",
    "# # Fit the model to the data\n",
    "# grid_search.fit(X, y)\n",
    "\n",
    "# # Get the best model\n",
    "# best_rf_model = grid_search.best_estimator_\n",
    "\n",
    "# # Make predictions using cross_val_score\n",
    "# cv_scores = cross_val_score(best_rf_model, X, y, cv=tscv, scoring='accuracy')\n",
    "\n",
    "# # Evaluate the model\n",
    "# print(\"Accuracy on Cross-Validation Set:\", cv_scores.mean())"
   ]
  },
  {
   "cell_type": "code",
   "execution_count": 102,
   "id": "b72700d2",
   "metadata": {},
   "outputs": [],
   "source": [
    "# # Assuming X_test is your test set features\n",
    "# # X_test, y_test = ...\n",
    "\n",
    "# # Make predictions on the test set\n",
    "# y_pred = best_rf_model.predict(X_test)\n",
    "\n",
    "# # Evaluate the model\n",
    "# accuracy = accuracy_score(y_test, y_pred)\n",
    "# print(\"Accuracy on Test Set:\", accuracy)\n"
   ]
  },
  {
   "cell_type": "code",
   "execution_count": 103,
   "id": "4a292740",
   "metadata": {},
   "outputs": [],
   "source": [
    "#Trying Backtesting after hyperparameter tuning\n",
    "\n",
    "predictions2 = backtest(df_sp500, best_rf_model, new_predictors)"
   ]
  },
  {
   "cell_type": "code",
   "execution_count": 104,
   "id": "5b9769c2",
   "metadata": {},
   "outputs": [
    {
     "data": {
      "text/plain": [
       "predictions\n",
       "0.0    4760\n",
       "1.0     309\n",
       "Name: count, dtype: int64"
      ]
     },
     "execution_count": 104,
     "metadata": {},
     "output_type": "execute_result"
    }
   ],
   "source": [
    "predictions2[\"predictions\"].value_counts()"
   ]
  },
  {
   "cell_type": "code",
   "execution_count": 105,
   "id": "b5d2d1af",
   "metadata": {},
   "outputs": [
    {
     "data": {
      "text/plain": [
       "0.5857605177993528"
      ]
     },
     "execution_count": 105,
     "metadata": {},
     "output_type": "execute_result"
    }
   ],
   "source": [
    "precision_score_metrics2 = precision_score(predictions2[\"target\"], predictions2[\"predictions\"])\n",
    "precision_score_metrics2"
   ]
  },
  {
   "cell_type": "code",
   "execution_count": 106,
   "id": "a92e0bc1",
   "metadata": {},
   "outputs": [
    {
     "name": "stdout",
     "output_type": "stream",
     "text": [
      "Connected. Call `.close()` to terminate connection gracefully.\n"
     ]
    },
    {
     "name": "stderr",
     "output_type": "stream",
     "text": [
      "Uploading model files (0 dirs, 0 files):  17%|▋   | 1/6 [00:00<00:01,  3.13it/s]\n",
      "Uploading: 0.000%|                         | 0/1360041 elapsed<00:00 remaining<?\u001b[A\n",
      "Uploading: 77.099%|██████████▊   | 1048576/1360041 elapsed<00:01 remaining<00:00\u001b[A\n",
      "Uploading: 100.000%|█████████████| 1360041/1360041 elapsed<00:02 remaining<00:00\u001b[A\n",
      "Uploading input_example and model_schema:  33%|█  | 2/6 [00:03<00:07,  1.76s/it]\n",
      "Uploading: 0.000%|                            | 0/1257 elapsed<00:00 remaining<?\u001b[A\n",
      "Uploading: 100.000%|███████████████████| 1257/1257 elapsed<00:01 remaining<00:00\u001b[A\n",
      "Model export complete: 100%|██████████████████████| 6/6 [00:10<00:00,  1.73s/it]"
     ]
    },
    {
     "name": "stdout",
     "output_type": "stream",
     "text": [
      "Model created, explore it at https://c.app.hopsworks.ai:443/p/210070/models/sp500_model/2\n"
     ]
    },
    {
     "name": "stderr",
     "output_type": "stream",
     "text": [
      "\n"
     ]
    },
    {
     "data": {
      "text/plain": [
       "Model(name: 'sp500_model', version: 2)"
      ]
     },
     "execution_count": 106,
     "metadata": {},
     "output_type": "execute_result"
    }
   ],
   "source": [
    "# We will now upload our model to the Hopsworks Model Registry. First get an object for the model registry.\n",
    "mr = project.get_model_registry()\n",
    "\n",
    "# The contents of the 'sp500_model' directory will be saved to the model registry. Create the dir, first.\n",
    "model_dir=\"sp500_model\"\n",
    "if os.path.isdir(model_dir) == False:\n",
    "    os.mkdir(model_dir)\n",
    "\n",
    "# Save our rf_model(random forest) to 'model_dir', whose contents will be uploaded to the model registry\n",
    "joblib.dump(best_rf_model, model_dir + \"/sp500_model.pkl\")   \n",
    "\n",
    "# Specify the schema of the model's input/output using the features (X_train) and labels (y_train)\n",
    "input_schema = Schema(df_sp500[new_predictors])\n",
    "output_schema = Schema(df_sp500[\"target\"])\n",
    "model_schema = ModelSchema(input_schema, output_schema)\n",
    "\n",
    "# Create an entry in the model registry that includes the model's name, desc, metrics\n",
    "sp500_model = mr.python.create_model(\n",
    "    name=\"sp500_model\",\n",
    "    version=2,\n",
    "    metrics={\"precision_score\" : precision_score_metrics2},\n",
    "    model_schema=model_schema,\n",
    "    description=\"sp500 Stock Direction Predictor\"\n",
    ")\n",
    "\n",
    "# Upload the model to the model registry, including all files in 'model_dir'\n",
    "sp500_model.save(model_dir)"
   ]
  },
  {
   "cell_type": "code",
   "execution_count": null,
   "id": "b13f126e",
   "metadata": {},
   "outputs": [],
   "source": []
  }
 ],
 "metadata": {
  "kernelspec": {
   "display_name": "Python 3 (ipykernel)",
   "language": "python",
   "name": "python3"
  },
  "language_info": {
   "codemirror_mode": {
    "name": "ipython",
    "version": 3
   },
   "file_extension": ".py",
   "mimetype": "text/x-python",
   "name": "python",
   "nbconvert_exporter": "python",
   "pygments_lexer": "ipython3",
   "version": "3.9.18"
  }
 },
 "nbformat": 4,
 "nbformat_minor": 5
}
